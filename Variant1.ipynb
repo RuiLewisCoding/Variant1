{
  "nbformat": 4,
  "nbformat_minor": 0,
  "metadata": {
    "colab": {
      "provenance": [],
      "authorship_tag": "ABX9TyOiDNhEadyWJUSwbaQh1MRC",
      "include_colab_link": true
    },
    "kernelspec": {
      "name": "python3",
      "display_name": "Python 3"
    },
    "language_info": {
      "name": "python"
    }
  },
  "cells": [
    {
      "cell_type": "markdown",
      "metadata": {
        "id": "view-in-github",
        "colab_type": "text"
      },
      "source": [
        "<a href=\"https://colab.research.google.com/github/RuiLewisCoding/Variant1/blob/main/Variant1.ipynb\" target=\"_parent\"><img src=\"https://colab.research.google.com/assets/colab-badge.svg\" alt=\"Open In Colab\"/></a>"
      ]
    },
    {
      "cell_type": "code",
      "source": [
        "class MultiplicationTable:\n",
        "    @staticmethod\n",
        "    def print_times_table():\n",
        "        for i in range(1, 13):\n",
        "            for j in range(1, 13):\n",
        "                print(f\"{i * j:4}\", end=\" \")\n",
        "            print()\n",
        "\n",
        "if __name__ == \"__main__\":\n",
        "    MultiplicationTable.print_times_table()"
      ],
      "metadata": {
        "colab": {
          "base_uri": "https://localhost:8080/"
        },
        "id": "jMEh8b8_DrbH",
        "outputId": "3eec24cc-992b-4a3d-b79c-3d2de6005d3c"
      },
      "execution_count": 1,
      "outputs": [
        {
          "output_type": "stream",
          "name": "stdout",
          "text": [
            "   1    2    3    4    5    6    7    8    9   10   11   12 \n",
            "   2    4    6    8   10   12   14   16   18   20   22   24 \n",
            "   3    6    9   12   15   18   21   24   27   30   33   36 \n",
            "   4    8   12   16   20   24   28   32   36   40   44   48 \n",
            "   5   10   15   20   25   30   35   40   45   50   55   60 \n",
            "   6   12   18   24   30   36   42   48   54   60   66   72 \n",
            "   7   14   21   28   35   42   49   56   63   70   77   84 \n",
            "   8   16   24   32   40   48   56   64   72   80   88   96 \n",
            "   9   18   27   36   45   54   63   72   81   90   99  108 \n",
            "  10   20   30   40   50   60   70   80   90  100  110  120 \n",
            "  11   22   33   44   55   66   77   88   99  110  121  132 \n",
            "  12   24   36   48   60   72   84   96  108  120  132  144 \n"
          ]
        }
      ]
    }
  ]
}